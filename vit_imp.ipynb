{
 "cells": [
  {
   "cell_type": "code",
   "execution_count": null,
   "id": "c3edf506",
   "metadata": {},
   "outputs": [],
   "source": [
    "import matplotlib.pyplot as plt\n",
    "import torch \n",
    "import torchvision"
   ]
  },
  {
   "cell_type": "code",
   "execution_count": null,
   "id": "912ccf16",
   "metadata": {},
   "outputs": [],
   "source": [
    "from torch import nn\n",
    "from torchvision import transforms\n",
    "from torchinfo import summary"
   ]
  },
  {
   "cell_type": "code",
   "execution_count": null,
   "id": "92b919ef",
   "metadata": {},
   "outputs": [],
   "source": [
    "import data_setup\n",
    "import engine\n",
    "from helper_functions import download_data, set_seeds, plot_loss_curves"
   ]
  },
  {
   "cell_type": "code",
   "execution_count": null,
   "id": "ee30dc90",
   "metadata": {},
   "outputs": [],
   "source": [
    "device = \"cuda\" if torch.cuda.is_available() else \"cpu\"\n",
    "device"
   ]
  },
  {
   "cell_type": "code",
   "execution_count": null,
   "id": "0459c188",
   "metadata": {},
   "outputs": [],
   "source": [
    "#Download dataset if none already exists\n",
    "#Dataset is pizza_steak_sushi\n",
    "image_path = download_data(\n",
    "    source=\"https://github.com/mrdbourke/pytorch-deep-learning/raw/main/data/pizza_steak_sushi.zip\", \n",
    "    destination=\"pizza_steak_sushi\"\n",
    ")\n",
    "image_path\n"
   ]
  },
  {
   "cell_type": "code",
   "execution_count": null,
   "id": "ff67e411",
   "metadata": {},
   "outputs": [],
   "source": [
    "#Set-up test and train paths \n",
    "train_dir = image_path / \"train\"\n",
    "test_dir = image_path / \"test\""
   ]
  },
  {
   "cell_type": "code",
   "execution_count": null,
   "id": "2dcd7f32",
   "metadata": {},
   "outputs": [],
   "source": [
    "#Now we set our image size and transform our images before puting them through \n",
    "#the dataloaders\n",
    "IMG_SIZE = 224\n",
    "\n",
    "#Create transform pipeline\n",
    "manual_transforms = transforms.Compose([\n",
    "    transforms.Resize((IMG_SIZE, IMG_SIZE)),\n",
    "    transforms.ToTensor(),\n",
    "])\n",
    "\n",
    "print(f'Image transformer created: {manual_transforms}')"
   ]
  },
  {
   "cell_type": "code",
   "execution_count": null,
   "id": "2d03d7ca",
   "metadata": {},
   "outputs": [],
   "source": [
    "#Vit states they used batch size of 4096 and until i switch to running on my PC where I \n",
    "# have a GPU that can handle that I will be using a batch size of 24\n",
    "BATCH_SIZE = 24 if device == \"cpu\" else 4096\n",
    "\n",
    "#Create data loaders\n",
    "train_dataloader, test_dataloader, class_names = data_setup.create_dataloaders(\n",
    "    train_dir=train_dir,\n",
    "    test_dir=test_dir,\n",
    "    transform=manual_transforms, #use previously defined transforms\n",
    "    batch_size=BATCH_SIZE\n",
    ")\n",
    "\n",
    "train_dataloader, test_dataloader, class_names"
   ]
  },
  {
   "cell_type": "code",
   "execution_count": null,
   "id": "875eb2a7",
   "metadata": {},
   "outputs": [],
   "source": [
    "#lets see if the dataloaders worked correctly by loading an image \n",
    "# first grab a batch of images from the train set \n",
    "image_batch, label_batch = next(iter(train_dataloader))\n",
    "\n",
    "# get a single image from the batch \n",
    "image, label = image_batch[0], label_batch[0]\n",
    "\n",
    "#view  the objects\n",
    "image.shape, label"
   ]
  },
  {
   "cell_type": "code",
   "execution_count": null,
   "id": "12758af0",
   "metadata": {},
   "outputs": [],
   "source": [
    "#that didn't really visualize it but we can see the size and the the associaate label tensor \n",
    "# so lets plot it w/matplotlib\n",
    "plt.imshow(image.permute(1, 2, 0)) #rearrange image dimensions to suit matplotlib [color_channels, height, width] -> [height, width, color_channels]\n",
    "plt.title(class_names[label])\n",
    "plt.axis(False)"
   ]
  },
  {
   "cell_type": "markdown",
   "id": "e6925c63",
   "metadata": {},
   "source": [
    "mmmm good looking pizza "
   ]
  },
  {
   "cell_type": "code",
   "execution_count": null,
   "id": "0a768a6b",
   "metadata": {},
   "outputs": [],
   "source": [
    "#now we are ready to actually replecate the paper "
   ]
  },
  {
   "cell_type": "code",
   "execution_count": null,
   "id": "7c3edb76",
   "metadata": {},
   "outputs": [],
   "source": []
  }
 ],
 "metadata": {
  "kernelspec": {
   "display_name": "venv",
   "language": "python",
   "name": "python3"
  },
  "language_info": {
   "codemirror_mode": {
    "name": "ipython",
    "version": 3
   },
   "file_extension": ".py",
   "mimetype": "text/x-python",
   "name": "python",
   "nbconvert_exporter": "python",
   "pygments_lexer": "ipython3",
   "version": "3.9.2"
  }
 },
 "nbformat": 4,
 "nbformat_minor": 5
}
